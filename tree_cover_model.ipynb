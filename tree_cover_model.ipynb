{
 "cells": [
  {
   "cell_type": "code",
   "execution_count": 4,
   "metadata": {},
   "outputs": [
    {
     "name": "stdout",
     "output_type": "stream",
     "text": [
      "           Elevation         Aspect          Slope  \\\n",
      "count  581012.000000  581012.000000  581012.000000   \n",
      "mean     2959.365301     155.656807      14.103704   \n",
      "std       279.984734     111.913721       7.488242   \n",
      "min      1859.000000       0.000000       0.000000   \n",
      "25%      2809.000000      58.000000       9.000000   \n",
      "50%      2996.000000     127.000000      13.000000   \n",
      "75%      3163.000000     260.000000      18.000000   \n",
      "max      3858.000000     360.000000      66.000000   \n",
      "\n",
      "       Horizontal_Distance_To_Hydrology  Vertical_Distance_To_Hydrology  \\\n",
      "count                     581012.000000                   581012.000000   \n",
      "mean                         269.428217                       46.418855   \n",
      "std                          212.549356                       58.295232   \n",
      "min                            0.000000                     -173.000000   \n",
      "25%                          108.000000                        7.000000   \n",
      "50%                          218.000000                       30.000000   \n",
      "75%                          384.000000                       69.000000   \n",
      "max                         1397.000000                      601.000000   \n",
      "\n",
      "       Horizontal_Distance_To_Roadways  Hillshade_9am  Hillshade_Noon  \\\n",
      "count                    581012.000000  581012.000000   581012.000000   \n",
      "mean                       2350.146611     212.146049      223.318716   \n",
      "std                        1559.254870      26.769889       19.768697   \n",
      "min                           0.000000       0.000000        0.000000   \n",
      "25%                        1106.000000     198.000000      213.000000   \n",
      "50%                        1997.000000     218.000000      226.000000   \n",
      "75%                        3328.000000     231.000000      237.000000   \n",
      "max                        7117.000000     254.000000      254.000000   \n",
      "\n",
      "       Hillshade_3pm  Horizontal_Distance_To_Fire_Points  ...    Soil_Type32  \\\n",
      "count  581012.000000                       581012.000000  ...  581012.000000   \n",
      "mean      142.528263                         1980.291226  ...       0.090392   \n",
      "std        38.274529                         1324.195210  ...       0.286743   \n",
      "min         0.000000                            0.000000  ...       0.000000   \n",
      "25%       119.000000                         1024.000000  ...       0.000000   \n",
      "50%       143.000000                         1710.000000  ...       0.000000   \n",
      "75%       168.000000                         2550.000000  ...       0.000000   \n",
      "max       254.000000                         7173.000000  ...       1.000000   \n",
      "\n",
      "         Soil_Type33    Soil_Type34    Soil_Type35    Soil_Type36  \\\n",
      "count  581012.000000  581012.000000  581012.000000  581012.000000   \n",
      "mean        0.077716       0.002773       0.003255       0.000205   \n",
      "std         0.267725       0.052584       0.056957       0.014310   \n",
      "min         0.000000       0.000000       0.000000       0.000000   \n",
      "25%         0.000000       0.000000       0.000000       0.000000   \n",
      "50%         0.000000       0.000000       0.000000       0.000000   \n",
      "75%         0.000000       0.000000       0.000000       0.000000   \n",
      "max         1.000000       1.000000       1.000000       1.000000   \n",
      "\n",
      "         Soil_Type37    Soil_Type38    Soil_Type39    Soil_Type40  \\\n",
      "count  581012.000000  581012.000000  581012.000000  581012.000000   \n",
      "mean        0.000513       0.026803       0.023762       0.015060   \n",
      "std         0.022641       0.161508       0.152307       0.121791   \n",
      "min         0.000000       0.000000       0.000000       0.000000   \n",
      "25%         0.000000       0.000000       0.000000       0.000000   \n",
      "50%         0.000000       0.000000       0.000000       0.000000   \n",
      "75%         0.000000       0.000000       0.000000       0.000000   \n",
      "max         1.000000       1.000000       1.000000       1.000000   \n",
      "\n",
      "               class  \n",
      "count  581012.000000  \n",
      "mean        2.051471  \n",
      "std         1.396504  \n",
      "min         1.000000  \n",
      "25%         1.000000  \n",
      "50%         2.000000  \n",
      "75%         2.000000  \n",
      "max         7.000000  \n",
      "\n",
      "[8 rows x 55 columns]\n",
      "\n",
      "['Elevation', 'Aspect', 'Slope', 'Horizontal_Distance_To_Hydrology', 'Vertical_Distance_To_Hydrology', 'Horizontal_Distance_To_Roadways', 'Hillshade_9am', 'Hillshade_Noon', 'Hillshade_3pm', 'Horizontal_Distance_To_Fire_Points', 'Wilderness_Area1', 'Wilderness_Area2', 'Wilderness_Area3', 'Wilderness_Area4', 'Soil_Type1', 'Soil_Type2', 'Soil_Type3', 'Soil_Type4', 'Soil_Type5', 'Soil_Type6', 'Soil_Type7', 'Soil_Type8', 'Soil_Type9', 'Soil_Type10', 'Soil_Type11', 'Soil_Type12', 'Soil_Type13', 'Soil_Type14', 'Soil_Type15', 'Soil_Type16', 'Soil_Type17', 'Soil_Type18', 'Soil_Type19', 'Soil_Type20', 'Soil_Type21', 'Soil_Type22', 'Soil_Type23', 'Soil_Type24', 'Soil_Type25', 'Soil_Type26', 'Soil_Type27', 'Soil_Type28', 'Soil_Type29', 'Soil_Type30', 'Soil_Type31', 'Soil_Type32', 'Soil_Type33', 'Soil_Type34', 'Soil_Type35', 'Soil_Type36', 'Soil_Type37', 'Soil_Type38', 'Soil_Type39', 'Soil_Type40', 'class']\n"
     ]
    }
   ],
   "source": [
    "import pandas as pd\n",
    "import numpy as np\n",
    "\n",
    "data_path = 'cover_data.csv'\n",
    "data = pd.read_csv(data_path)\n",
    "\n",
    "print(data.describe())\n",
    "print(\"\")\n",
    "print(list(data.columns.values))"
   ]
  },
  {
   "cell_type": "markdown",
   "metadata": {},
   "source": [
    "4 Possible Wilderness Areas, 40 Soil Types. \n",
    "\n",
    "Pre-one-hot-encoded. Can carry on as is.\n",
    "\n",
    "## Split Data/Scale"
   ]
  },
  {
   "cell_type": "code",
   "execution_count": 5,
   "metadata": {},
   "outputs": [
    {
     "name": "stdout",
     "output_type": "stream",
     "text": [
      "     Aspect     Slope  Horizontal_Distance_To_Hydrology  \\\n",
      "0 -0.407971 -0.281543                         -1.268687   \n",
      "1  1.700678  0.385828                         -1.127598   \n",
      "2  0.887597 -0.681965                         -0.671412   \n",
      "3 -0.944068 -0.148069                          0.447892   \n",
      "4  0.744638  0.385828                         -0.868936   \n",
      "\n",
      "   Vertical_Distance_To_Hydrology  Horizontal_Distance_To_Roadways  \\\n",
      "0                       -0.797237                        -0.449812   \n",
      "1                       -0.694508                        -1.452329   \n",
      "2                       -0.780115                         1.375629   \n",
      "3                        0.743693                         0.327572   \n",
      "4                       -0.523294                        -1.152151   \n",
      "\n",
      "   Hillshade_9am  Hillshade_Noon  Hillshade_3pm  \\\n",
      "0       1.039892        0.186766      -0.718431   \n",
      "1      -1.012311       -0.622319       0.534339   \n",
      "2      -0.489932        1.147554       1.134625   \n",
      "3       0.480200       -0.571752      -0.614034   \n",
      "4      -0.974998        1.450961       1.526115   \n",
      "\n",
      "   Horizontal_Distance_To_Fire_Points  Wilderness_Area1  ...  Soil_Type31  \\\n",
      "0                           -0.086080         -0.901550  ...    -0.215561   \n",
      "1                           -1.008754         -0.901550  ...    -0.215561   \n",
      "2                            1.624002          1.109201  ...    -0.215561   \n",
      "3                           -1.350317         -0.901550  ...    -0.215561   \n",
      "4                           -0.983817         -0.901550  ...    -0.215561   \n",
      "\n",
      "   Soil_Type32  Soil_Type33  Soil_Type34  Soil_Type35  Soil_Type36  \\\n",
      "0    -0.315044    -0.289839    -0.052281    -0.056824    -0.014522   \n",
      "1    -0.315044    -0.289839    -0.052281    -0.056824    -0.014522   \n",
      "2    -0.315044    -0.289839    -0.052281    -0.056824    -0.014522   \n",
      "3     3.174164    -0.289839    -0.052281    -0.056824    -0.014522   \n",
      "4    -0.315044    -0.289839    -0.052281    -0.056824    -0.014522   \n",
      "\n",
      "   Soil_Type37  Soil_Type38  Soil_Type39  Soil_Type40  \n",
      "0    -0.022776    -0.166131    -0.156305    -0.124128  \n",
      "1    -0.022776    -0.166131    -0.156305    -0.124128  \n",
      "2    -0.022776    -0.166131    -0.156305    -0.124128  \n",
      "3    -0.022776    -0.166131    -0.156305    -0.124128  \n",
      "4    -0.022776    -0.166131    -0.156305    -0.124128  \n",
      "\n",
      "[5 rows x 53 columns]\n"
     ]
    }
   ],
   "source": [
    "from sklearn.model_selection import train_test_split\n",
    "from sklearn.preprocessing import StandardScaler\n",
    "\n",
    "# Feature/Label Split\n",
    "features = data.iloc[:, 1:-1]\n",
    "labels = data.iloc[:, -1]\n",
    "\n",
    "# Train/Test Split & Scale\n",
    "x_train, x_test, y_train, y_test = train_test_split(features, labels, random_state = 222, test_size = 0.2)\n",
    "\n",
    "scaler = StandardScaler()\n",
    "x_train_scale = scaler.fit_transform(x_train)\n",
    "x_test_scale = scaler.transform(x_test)\n",
    "\n",
    "x_train_scale = pd.DataFrame(x_train_scale, columns = x_train.columns)\n",
    "x_test_scale = pd.DataFrame(x_test_scale, columns = x_test.columns)\n",
    "\n",
    "print(x_train_scale.head())"
   ]
  },
  {
   "cell_type": "markdown",
   "metadata": {},
   "source": [
    "## Model Archirecture\n",
    "Now scaling is complete, free to carry on with model. \n",
    "\n",
    "As data is tabular, with prediction categorical, a number of feed-forward Dense layers is going to be our choice. Sparse cross categorical entropy is our loss function, as labels are integers."
   ]
  },
  {
   "cell_type": "code",
   "execution_count": 11,
   "metadata": {},
   "outputs": [],
   "source": [
    "import tensorflow as tf\n",
    "\n",
    "from sklearn.metrics import r2_score\n",
    "\n",
    "# Create Neural Network Model\n",
    "def design_model(features):\n",
    "  model = tf.keras.models.Sequential(name = \"my_first_model\")\n",
    "  #without hard-coding\n",
    "  input = tf.keras.layers.InputLayer(input_shape=(features.shape[1],)) \n",
    "  #add the input layer\n",
    "  model.add(input) \n",
    "  #add a hidden layer with 128 neurons\n",
    "  model.add(tf.keras.layers.Dense(128, activation='relu')) \n",
    "  #add an output layer to our model\n",
    "  model.add(tf.keras.layers.Dense(1)) \n",
    "  opt = tf.keras.optimizers.Adam(learning_rate=0.1)\n",
    "  model.compile(loss='sparse_categorical_crossentropy',  metrics=['accuracy'], optimizer=opt)\n",
    "  return model"
   ]
  },
  {
   "cell_type": "code",
   "execution_count": 12,
   "metadata": {},
   "outputs": [
    {
     "name": "stdout",
     "output_type": "stream",
     "text": [
      "Epoch 1/40\n"
     ]
    },
    {
     "name": "stderr",
     "output_type": "stream",
     "text": [
      "2025-10-02 21:41:41.438579: I tensorflow/core/grappler/optimizers/custom_graph_optimizer_registry.cc:114] Plugin optimizer for device_type GPU is enabled.\n",
      "2025-10-02 21:41:41.466439: E tensorflow/core/grappler/optimizers/meta_optimizer.cc:954] model_pruner failed: INVALID_ARGUMENT: Graph does not contain terminal node AssignAddVariableOp_2.\n"
     ]
    },
    {
     "name": "stdout",
     "output_type": "stream",
     "text": [
      "32537/32537 [==============================] - ETA: 0s - loss: 0.0000e+00 - accuracy: 0.0724"
     ]
    },
    {
     "name": "stderr",
     "output_type": "stream",
     "text": [
      "2025-10-02 21:44:02.259634: I tensorflow/core/grappler/optimizers/custom_graph_optimizer_registry.cc:114] Plugin optimizer for device_type GPU is enabled.\n"
     ]
    },
    {
     "name": "stdout",
     "output_type": "stream",
     "text": [
      "32537/32537 [==============================] - 173s 5ms/step - loss: 0.0000e+00 - accuracy: 0.0724 - val_loss: 0.0000e+00 - val_accuracy: 0.0648\n",
      "Epoch 2/40\n",
      "32537/32537 [==============================] - 171s 5ms/step - loss: 0.0000e+00 - accuracy: 0.0652 - val_loss: 0.0000e+00 - val_accuracy: 0.0648\n",
      "Epoch 3/40\n",
      "32537/32537 [==============================] - 173s 5ms/step - loss: 0.0000e+00 - accuracy: 0.0652 - val_loss: 0.0000e+00 - val_accuracy: 0.0648\n",
      "Epoch 4/40\n",
      "32537/32537 [==============================] - 173s 5ms/step - loss: 0.0000e+00 - accuracy: 0.0652 - val_loss: 0.0000e+00 - val_accuracy: 0.0648\n",
      "Epoch 5/40\n",
      "32537/32537 [==============================] - 172s 5ms/step - loss: 0.0000e+00 - accuracy: 0.0652 - val_loss: 0.0000e+00 - val_accuracy: 0.0648\n",
      "Epoch 6/40\n",
      "32537/32537 [==============================] - 174s 5ms/step - loss: 0.0000e+00 - accuracy: 0.0652 - val_loss: 0.0000e+00 - val_accuracy: 0.0648\n",
      "Epoch 7/40\n",
      "32537/32537 [==============================] - 172s 5ms/step - loss: 0.0000e+00 - accuracy: 0.0652 - val_loss: 0.0000e+00 - val_accuracy: 0.0648\n",
      "Epoch 8/40\n",
      "32537/32537 [==============================] - 172s 5ms/step - loss: 0.0000e+00 - accuracy: 0.0652 - val_loss: 0.0000e+00 - val_accuracy: 0.0648\n",
      "Epoch 9/40\n",
      "32537/32537 [==============================] - 173s 5ms/step - loss: 0.0000e+00 - accuracy: 0.0652 - val_loss: 0.0000e+00 - val_accuracy: 0.0648\n",
      "Epoch 10/40\n",
      "32537/32537 [==============================] - 1147s 35ms/step - loss: 0.0000e+00 - accuracy: 0.0652 - val_loss: 0.0000e+00 - val_accuracy: 0.0648\n",
      "Epoch 11/40\n",
      "32537/32537 [==============================] - 181s 6ms/step - loss: 0.0000e+00 - accuracy: 0.0652 - val_loss: 0.0000e+00 - val_accuracy: 0.0648\n",
      "Epoch 12/40\n",
      "32537/32537 [==============================] - 233s 7ms/step - loss: 0.0000e+00 - accuracy: 0.0652 - val_loss: 0.0000e+00 - val_accuracy: 0.0648\n",
      "Epoch 13/40\n",
      "32537/32537 [==============================] - 1318s 41ms/step - loss: 0.0000e+00 - accuracy: 0.0652 - val_loss: 0.0000e+00 - val_accuracy: 0.0648\n",
      "Epoch 14/40\n",
      "32537/32537 [==============================] - 172s 5ms/step - loss: 0.0000e+00 - accuracy: 0.0652 - val_loss: 0.0000e+00 - val_accuracy: 0.0648\n",
      "Epoch 15/40\n",
      "32537/32537 [==============================] - 217s 7ms/step - loss: 0.0000e+00 - accuracy: 0.0652 - val_loss: 0.0000e+00 - val_accuracy: 0.0648\n",
      "Epoch 16/40\n",
      "32537/32537 [==============================] - 1284s 39ms/step - loss: 0.0000e+00 - accuracy: 0.0652 - val_loss: 0.0000e+00 - val_accuracy: 0.0648\n",
      "Epoch 17/40\n",
      "32537/32537 [==============================] - 172s 5ms/step - loss: 0.0000e+00 - accuracy: 0.0652 - val_loss: 0.0000e+00 - val_accuracy: 0.0648\n",
      "Epoch 18/40\n",
      "32537/32537 [==============================] - 213s 7ms/step - loss: 0.0000e+00 - accuracy: 0.0652 - val_loss: 0.0000e+00 - val_accuracy: 0.0648\n",
      "Epoch 19/40\n",
      "32537/32537 [==============================] - 1325s 41ms/step - loss: 0.0000e+00 - accuracy: 0.0652 - val_loss: 0.0000e+00 - val_accuracy: 0.0648\n",
      "Epoch 20/40\n",
      "32537/32537 [==============================] - 184s 6ms/step - loss: 0.0000e+00 - accuracy: 0.0652 - val_loss: 0.0000e+00 - val_accuracy: 0.0648\n",
      "Epoch 21/40\n",
      "32537/32537 [==============================] - 213s 7ms/step - loss: 0.0000e+00 - accuracy: 0.0652 - val_loss: 0.0000e+00 - val_accuracy: 0.0648\n",
      "Epoch 22/40\n",
      "32537/32537 [==============================] - 443s 14ms/step - loss: 0.0000e+00 - accuracy: 0.0652 - val_loss: 0.0000e+00 - val_accuracy: 0.0648\n",
      "Epoch 23/40\n",
      "32537/32537 [==============================] - 1231s 38ms/step - loss: 0.0000e+00 - accuracy: 0.0652 - val_loss: 0.0000e+00 - val_accuracy: 0.0648\n",
      "Epoch 24/40\n",
      "32537/32537 [==============================] - 1117s 34ms/step - loss: 0.0000e+00 - accuracy: 0.0652 - val_loss: 0.0000e+00 - val_accuracy: 0.0648\n",
      "Epoch 25/40\n",
      "32537/32537 [==============================] - 1149s 35ms/step - loss: 0.0000e+00 - accuracy: 0.0652 - val_loss: 0.0000e+00 - val_accuracy: 0.0648\n",
      "Epoch 26/40\n",
      "32537/32537 [==============================] - 1180s 36ms/step - loss: 0.0000e+00 - accuracy: 0.0652 - val_loss: 0.0000e+00 - val_accuracy: 0.0648\n",
      "Epoch 27/40\n",
      "32537/32537 [==============================] - 1117s 34ms/step - loss: 0.0000e+00 - accuracy: 0.0652 - val_loss: 0.0000e+00 - val_accuracy: 0.0648\n",
      "Epoch 28/40\n",
      "32537/32537 [==============================] - 181s 6ms/step - loss: 0.0000e+00 - accuracy: 0.0652 - val_loss: 0.0000e+00 - val_accuracy: 0.0648\n",
      "Epoch 29/40\n",
      "32537/32537 [==============================] - 211s 6ms/step - loss: 0.0000e+00 - accuracy: 0.0652 - val_loss: 0.0000e+00 - val_accuracy: 0.0648\n",
      "Epoch 30/40\n",
      "32537/32537 [==============================] - 214s 7ms/step - loss: 0.0000e+00 - accuracy: 0.0652 - val_loss: 0.0000e+00 - val_accuracy: 0.0648\n",
      "Epoch 31/40\n",
      "32537/32537 [==============================] - 857s 26ms/step - loss: 0.0000e+00 - accuracy: 0.0652 - val_loss: 0.0000e+00 - val_accuracy: 0.0648\n",
      "Epoch 32/40\n",
      "32537/32537 [==============================] - 1170s 36ms/step - loss: 0.0000e+00 - accuracy: 0.0652 - val_loss: 0.0000e+00 - val_accuracy: 0.0648\n",
      "Epoch 33/40\n",
      "32537/32537 [==============================] - 1124s 35ms/step - loss: 0.0000e+00 - accuracy: 0.0652 - val_loss: 0.0000e+00 - val_accuracy: 0.0648\n",
      "Epoch 34/40\n",
      "32537/32537 [==============================] - 1096s 34ms/step - loss: 0.0000e+00 - accuracy: 0.0652 - val_loss: 0.0000e+00 - val_accuracy: 0.0648\n",
      "Epoch 35/40\n",
      "32537/32537 [==============================] - 231s 7ms/step - loss: 0.0000e+00 - accuracy: 0.0652 - val_loss: 0.0000e+00 - val_accuracy: 0.0648\n",
      "Epoch 36/40\n",
      "32537/32537 [==============================] - 205s 6ms/step - loss: 0.0000e+00 - accuracy: 0.0652 - val_loss: 0.0000e+00 - val_accuracy: 0.0648\n",
      "Epoch 37/40\n",
      "32537/32537 [==============================] - 1371s 42ms/step - loss: 0.0000e+00 - accuracy: 0.0652 - val_loss: 0.0000e+00 - val_accuracy: 0.0648\n",
      "Epoch 38/40\n",
      "32537/32537 [==============================] - 177s 5ms/step - loss: 0.0000e+00 - accuracy: 0.0652 - val_loss: 0.0000e+00 - val_accuracy: 0.0648\n",
      "Epoch 39/40\n",
      "32537/32537 [==============================] - 223s 7ms/step - loss: 0.0000e+00 - accuracy: 0.0652 - val_loss: 0.0000e+00 - val_accuracy: 0.0648\n",
      "Epoch 40/40\n",
      "32537/32537 [==============================] - 1369s 42ms/step - loss: 0.0000e+00 - accuracy: 0.0652 - val_loss: 0.0000e+00 - val_accuracy: 0.0648\n",
      "  45/3632 [..............................] - ETA: 4s   "
     ]
    },
    {
     "name": "stderr",
     "output_type": "stream",
     "text": [
      "2025-10-03 04:03:00.317018: I tensorflow/core/grappler/optimizers/custom_graph_optimizer_registry.cc:114] Plugin optimizer for device_type GPU is enabled.\n"
     ]
    },
    {
     "name": "stdout",
     "output_type": "stream",
     "text": [
      "3632/3632 [==============================] - 4s 1ms/step\n"
     ]
    }
   ],
   "source": [
    "# Fit and Predict\n",
    "model = design_model(x_train_scale)\n",
    "model.fit(x_train_scale, y_train, batch_size = 10, epochs = 40, validation_split = 0.3)\n",
    "  \n",
    "\n",
    "# Make predictions and evaluate\n",
    "y_pred = model.predict(x_test_scale)"
   ]
  }
 ],
 "metadata": {
  "kernelspec": {
   "display_name": "venv",
   "language": "python",
   "name": "python3"
  },
  "language_info": {
   "codemirror_mode": {
    "name": "ipython",
    "version": 3
   },
   "file_extension": ".py",
   "mimetype": "text/x-python",
   "name": "python",
   "nbconvert_exporter": "python",
   "pygments_lexer": "ipython3",
   "version": "3.9.13"
  }
 },
 "nbformat": 4,
 "nbformat_minor": 4
}
